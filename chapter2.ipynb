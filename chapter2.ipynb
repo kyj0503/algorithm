{
 "cells": [
  {
   "cell_type": "code",
   "execution_count": 1,
   "metadata": {},
   "outputs": [],
   "source": [
    "import random\n",
    "\n",
    "##전역 변수 선언 부분\n",
    "totalLotto = []\n",
    "lotto = []\n",
    "pickNum = 0\n",
    "count = 0 \n",
    "\n",
    "##메인 코드 부분\n",
    "print(\"**로또 번호 생성을 시작합니다.**\")\n",
    "count = int(input('몇번을 뽑을까요?'))\n",
    "\n",
    "for _ in range(count):\n",
    "    lotto = []\n",
    "    while True:\n",
    "        pickNum = random.randint(1, 45)\n",
    "        if pickNum not in lotto:\n",
    "            lotto.append(pickNum)\n",
    "        if len(lotto) >= 6:\n",
    "            break\n",
    "    totalLotto.append(lotto)\n",
    "\n",
    "for lotto in totalLotto:\n",
    "    lotto.sort()\n",
    "    print('자동번호 ->', end = ' ')\n",
    "    for i in range(0, 6):\n",
    "        print(\"%2d\" % lotto[i], end = ' ')\n",
    "    print()"
   ]
  },
  {
   "cell_type": "code",
   "execution_count": null,
   "metadata": {},
   "outputs": [],
   "source": []
  }
 ],
 "metadata": {
  "kernelspec": {
   "display_name": "base",
   "language": "python",
   "name": "python3"
  },
  "language_info": {
   "codemirror_mode": {
    "name": "ipython",
    "version": 3
   },
   "file_extension": ".py",
   "mimetype": "text/x-python",
   "name": "python",
   "nbconvert_exporter": "python",
   "pygments_lexer": "ipython3",
   "version": "3.11.7"
  }
 },
 "nbformat": 4,
 "nbformat_minor": 2
}
